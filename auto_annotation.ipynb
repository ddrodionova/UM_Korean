{
 "cells": [
  {
   "cell_type": "code",
   "execution_count": 465,
   "metadata": {},
   "outputs": [],
   "source": [
    "import shutil\n",
    "from os import listdir\n",
    "import fcntl\n",
    "from os.path import join\n",
    "import pandas as pd\n",
    "import re\n",
    "\n",
    "raw_dr = './raw_tables/Korean'\n",
    "new_raw = './auto_raw_tables'\n",
    "dr = './annotated_tables/Korean'\n",
    "newdr = './pred_annotated_tables'\n",
    "cor_ann = './auto_annotated_tables'\n"
   ]
  },
  {
   "cell_type": "code",
   "execution_count": 468,
   "metadata": {},
   "outputs": [],
   "source": [
    "def make_copies(pos, dr, new_raw, smp, newdr):\n",
    "    \n",
    "    for f in listdir(new_raw):\n",
    "        if f in ['ADJ_000001_(21,8)_example.tsv', 'ADJ_000001_(30,8)_example.tsv']:\n",
    "            shutil.copy(join(dr, f[:-3] + 'csv'), join(newdr, f[:-3] + 'tsv'))\n",
    "        if pos in f and 'tsv' in f:\n",
    "            if 'lock' not in f:\n",
    "                shutil.copy(join(dr, smp), join(newdr, f))\n",
    "            else:\n",
    "                fcntl.flock(join(dr, f), fcntl.LOCK_UN)\n",
    "                shutil.copy(join(dr, smp), join(newdr, f[7:-1]))\n",
    "\n",
    "                \n",
    "def clean_raw(raw_dr, new_raw):\n",
    "    for f in listdir(raw_dr):\n",
    "        df = pd.read_csv(join(raw_dr, f), sep=None, engine='python')\n",
    "        \n",
    "        f, ck = check_pos(df, f, new_raw)\n",
    "        if not ck:\n",
    "            print(f, '- too many tables')\n",
    "            continue\n",
    "            \n",
    "        for i, row in enumerate(df.iterrows()):\n",
    "            if 'Formal non-polite(해라체)' in row[1].unique():\n",
    "                if pos == 'ADJ':\n",
    "                    st = i\n",
    "                    en = i + 34\n",
    "                if pos == 'V':\n",
    "                    st = i\n",
    "                    en = i + 40\n",
    "                break\n",
    "                \n",
    "        df = pd.DataFrame([i[1].values[0:6] for i in list(df.iterrows())[st:en]])\n",
    "        \n",
    "        for i in df.columns:\n",
    "            df[i] = df[i].str.replace(u'(([\\u3131-\\u3163\\uac00-\\ud7a3]+, )?[\\u3131-\\u3163\\uac00-\\ud7a3]+)(-?[a-z, ]+)', u'\\g<1>', regex=True)\n",
    "        \n",
    "        df.to_csv(join(new_raw, f[:-3] + 'tsv'), sep='\\t', header=False, index=False)\n",
    "        \n",
    "\n",
    "def check_pos(df, fn, new_raw):\n",
    "    if df[df.columns[0]].value_counts()['Indicative'] > 4:\n",
    "        return fn, False\n",
    "    if 'Imperative' in df[df.columns[0]].values or 'Hortative' in df[df.columns[0]].values or 'Motive' in df[df.columns[0]].values:\n",
    "        pos = 'V'\n",
    "    else:\n",
    "        pos = 'ADJ'\n",
    "    fn = fn.split('_')\n",
    "    fn[0] = pos\n",
    "    fn = '_'.join(fn)\n",
    "    if fn in listdir(new_raw):\n",
    "        fn = fn[:-4] + '_' + str(len(listdir(new_raw))) + '.csv'\n",
    "    return fn, True\n",
    "\n",
    "\n",
    "def correct_anno(newdr, new_raw, cor_ann):\n",
    "    \n",
    "    for f in listdir(newdr):\n",
    "        if 'tsv' not in f and 'csv' not in f or f  in ['ADJ_000001_(21,8)_example.tsv', 'ADJ_000001_(30,8)_example.tsv']:\n",
    "            continue\n",
    "        df1 = pd.read_csv(join(newdr, f), sep=None, engine='python')\n",
    "        df2 = pd.read_csv(join(new_raw, f), sep=None, engine='python')\n",
    "            \n",
    "        for i in df2.columns:\n",
    "            nv = []\n",
    "            if len(df2[i]) > len(df1[i]):\n",
    "                df2 = df2.drop(range(len(df1[i]), len(df2[i])), axis=0)\n",
    "            for j, rw in enumerate(df2[i]):\n",
    "                anno = df1[i][j]\n",
    "                if str(anno) == 'nan':\n",
    "                    nv.append(anno)\n",
    "                    continue\n",
    "                an_0 = str(anno).split(', ')[0]\n",
    "                nv.append(', '.join([an_0] * len(str(rw).split(', '))))\n",
    "            if len(df1[i]) > len(df2[i]):\n",
    "                df1 = df1.drop(range(len(df2[i]), len(df1[i])), axis=0)\n",
    "            df1[i] = nv\n",
    "        df1.to_csv(join(cor_ann, f[:-3] + 'tsv'), sep='\\t', header=True, index=False)"
   ]
  },
  {
   "cell_type": "code",
   "execution_count": 469,
   "metadata": {},
   "outputs": [
    {
     "name": "stdout",
     "output_type": "stream",
     "text": [
      "V_000001_(137,8)_example.csv - too many tables\n",
      "ADJ_000001_(137,8)_example.csv - too many tables\n",
      "V_000001_(101,8)_example.csv - too many tables\n",
      "V_000002_(80,8)_example.csv - too many tables\n",
      "V_000002_(99,8)_example.csv - too many tables\n",
      "ADJ_000008_(94,8)_example.csv - too many tables\n",
      "ADJ_000001_(93,8)_example.csv - too many tables\n",
      "V_000001_(108,8)_example.csv - too many tables\n",
      "V_000008_(94,8)_example.csv - too many tables\n",
      "ADJ_000001_(99,8)_example.csv - too many tables\n",
      "V_000002_(95,8)_example.csv - too many tables\n",
      "V_000001_(93,8)_example.csv - too many tables\n",
      "ADJ_000006_(92,8)_example.csv - too many tables\n",
      "V_000006_(92,8)_example.csv - too many tables\n",
      "ADJ_000002_(95,8)_example.csv - too many tables\n"
     ]
    }
   ],
   "source": [
    "clean_raw(raw_dr, new_raw)"
   ]
  },
  {
   "cell_type": "code",
   "execution_count": 443,
   "metadata": {},
   "outputs": [],
   "source": [
    "smp = 'ADJ_000001_(40,8)_example.csv'\n",
    "pos = 'ADJ'\n",
    "make_copies(pos, dr, new_raw, smp, newdr)"
   ]
  },
  {
   "cell_type": "code",
   "execution_count": 444,
   "metadata": {},
   "outputs": [],
   "source": [
    "smp = 'verb_paradigm.csv'\n",
    "pos = 'V'\n",
    "make_copies(pos, dr, new_raw, smp, newdr)"
   ]
  },
  {
   "cell_type": "code",
   "execution_count": 460,
   "metadata": {},
   "outputs": [],
   "source": [
    "correct_anno(newdr, new_raw, cor_ann)"
   ]
  },
  {
   "cell_type": "code",
   "execution_count": 467,
   "metadata": {},
   "outputs": [],
   "source": [
    "for f in ['ADJ_000001_(21,8)_example.csv', 'ADJ_000001_(30,8)_example.csv']:\n",
    "    df1 = pd.read_csv(join(dr, f), sep=None, engine='python')\n",
    "    df1.to_csv(join(cor_ann, f[:-3] + 'tsv'), sep='\\t', header=True, index=False)"
   ]
  },
  {
   "cell_type": "code",
   "execution_count": null,
   "metadata": {},
   "outputs": [],
   "source": []
  }
 ],
 "metadata": {
  "kernelspec": {
   "display_name": "Python 3",
   "language": "python",
   "name": "python3"
  },
  "language_info": {
   "codemirror_mode": {
    "name": "ipython",
    "version": 3
   },
   "file_extension": ".py",
   "mimetype": "text/x-python",
   "name": "python",
   "nbconvert_exporter": "python",
   "pygments_lexer": "ipython3",
   "version": "3.7.4"
  }
 },
 "nbformat": 4,
 "nbformat_minor": 2
}
